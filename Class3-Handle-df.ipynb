{
 "cells": [
  {
   "cell_type": "markdown",
   "id": "101e2fa0",
   "metadata": {},
   "source": [
    "# PySpark # 3"
   ]
  },
  {
   "cell_type": "markdown",
   "id": "3b7ca4d6",
   "metadata": {},
   "source": [
    "Link da aula: https://www.youtube.com/watch?v=EoI3XwxCkfI"
   ]
  },
  {
   "cell_type": "markdown",
   "id": "7a2aa669",
   "metadata": {},
   "source": [
    "##### Índice:\n",
    "\n",
    "    # Importação bibliotecas / funções\n",
    "    # Criar Sessão PySpark\n",
    "    # Criar DF / ler arquivo\n",
    "    \n",
    "    # Collect()\n",
    "    # When() / Otherwise()\n",
    "    # Union (Concat)\n",
    "    # Joins\n",
    "    # Join - Simples\n",
    "    # Inner Join\n",
    "    # Left Join\n",
    "    # Right Join\n",
    "    # Full Join\n",
    "    # Semi Join\n",
    "    # Anti Join"
   ]
  },
  {
   "cell_type": "markdown",
   "id": "1fbb20e8",
   "metadata": {},
   "source": [
    "##### Importação bibliotecas / funções"
   ]
  },
  {
   "cell_type": "code",
   "execution_count": null,
   "id": "ddcd4f40",
   "metadata": {},
   "outputs": [],
   "source": [
    "import os\n",
    "import sys\n",
    "from pyspark.sql import SparkSession\n",
    "from pyspark.sql.functions import *\n",
    "from pyspark.sql.types import *\n",
    "from pyspark.sql.window import Window # Importando window function\n",
    "\n",
    "os.environ['PYSPARK_PYTHON'] = sys.executable\n",
    "os.environ['PYSPARK_DRIVER_PYTHON'] = sys.executable"
   ]
  },
  {
   "cell_type": "markdown",
   "id": "1a1a211a",
   "metadata": {},
   "source": [
    "##### Criar / Iniciar Sessão PySpark"
   ]
  },
  {
   "cell_type": "code",
   "execution_count": null,
   "id": "fbaaff5a",
   "metadata": {},
   "outputs": [],
   "source": [
    "spark = (\n",
    "    SparkSession.builder\n",
    "    .master('local')\n",
    "    .appName('PySpark_01')\n",
    "    .getOrCreate()\n",
    ")"
   ]
  },
  {
   "cell_type": "markdown",
   "id": "e651c2d3",
   "metadata": {},
   "source": [
    "##### Criar DF / ler arquivo"
   ]
  },
  {
   "cell_type": "code",
   "execution_count": null,
   "id": "673d6d20",
   "metadata": {},
   "outputs": [],
   "source": [
    "df = spark.read.csv('archive/wc2018-players.csv', header=True, inferSchema=True)"
   ]
  },
  {
   "cell_type": "markdown",
   "id": "c9fd28d4",
   "metadata": {},
   "source": [
    "##### Alterações Aula PySpark 01"
   ]
  },
  {
   "cell_type": "code",
   "execution_count": null,
   "id": "1cd92cc2",
   "metadata": {},
   "outputs": [],
   "source": [
    "df = df.withColumnRenamed('Team', 'Selecao').withColumnRenamed('#', 'Numero').withColumnRenamed('Pos.', 'Posicao')\\\n",
    ".withColumnRenamed('FIFA Popular Name', 'Nome_FIFA').withColumnRenamed('Birth Date', 'Nascimento')\\\n",
    ".withColumnRenamed('Shirt Name', 'Nome Camiseta').withColumnRenamed('Club', 'Time').withColumnRenamed('Height', 'Altura')\\\n",
    ".withColumnRenamed('Weight', 'Peso')\n",
    "\n",
    "dia = udf(lambda data: data.split('.')[0])\n",
    "mes = udf(lambda data: data.split('.')[1])\n",
    "ano = udf(lambda data: data.split('.')[2])\n",
    "\n",
    "df = df.withColumn('Dia', dia('Nascimento')).withColumn('Mes', mes('Nascimento')).withColumn('Ano', ano('nascimento'))\n",
    "df = df.withColumn('Data_Nascimento', concat_ws('-', 'Ano', 'Mes', 'Dia').cast(DateType()))"
   ]
  },
  {
   "cell_type": "markdown",
   "id": "0fdc60dc",
   "metadata": {},
   "source": [
    "##### Alterações Aula PySpark 02"
   ]
  },
  {
   "cell_type": "code",
   "execution_count": null,
   "id": "2206dc96",
   "metadata": {
    "scrolled": true
   },
   "outputs": [],
   "source": [
    "df2 = df\n",
    "df = df.drop('Nascimento', 'Nome_FIFA')"
   ]
  },
  {
   "cell_type": "markdown",
   "id": "1af91ea7",
   "metadata": {},
   "source": [
    " "
   ]
  },
  {
   "cell_type": "markdown",
   "id": "3024c2bf",
   "metadata": {},
   "source": [
    "##### Distinct()"
   ]
  },
  {
   "cell_type": "code",
   "execution_count": null,
   "id": "c05da43c",
   "metadata": {},
   "outputs": [],
   "source": [
    "df.select(col('Selecao')).distinct().show(50)"
   ]
  },
  {
   "cell_type": "markdown",
   "id": "0077030a",
   "metadata": {},
   "source": [
    "##### Collect()"
   ]
  },
  {
   "cell_type": "code",
   "execution_count": null,
   "id": "6f26aa50",
   "metadata": {
    "scrolled": true
   },
   "outputs": [],
   "source": [
    "lista = df.select(col('Selecao')).distinct().collect()\n",
    "lista"
   ]
  },
  {
   "cell_type": "code",
   "execution_count": null,
   "id": "b7f15bcf",
   "metadata": {},
   "outputs": [],
   "source": [
    "type(lista[0][0])"
   ]
  },
  {
   "cell_type": "code",
   "execution_count": null,
   "id": "7c0d5fbf",
   "metadata": {},
   "outputs": [],
   "source": [
    "lista[1][0]"
   ]
  },
  {
   "cell_type": "code",
   "execution_count": null,
   "id": "98705b99",
   "metadata": {},
   "outputs": [],
   "source": [
    "paises =[]\n",
    "\n",
    "for pais in lista:\n",
    "    paises.append(pais[0])\n",
    "    \n",
    "paises"
   ]
  },
  {
   "cell_type": "code",
   "execution_count": null,
   "id": "7abd273c",
   "metadata": {},
   "outputs": [],
   "source": []
  },
  {
   "cell_type": "markdown",
   "id": "244cc23a",
   "metadata": {},
   "source": [
    "##### When() / Otherwise()"
   ]
  },
  {
   "cell_type": "code",
   "execution_count": null,
   "id": "3ada8b20",
   "metadata": {},
   "outputs": [],
   "source": [
    "df.withColumn('Coluna_Nova', when(col('Selecao') == \"Argentina\", 'Argentinos :)').otherwise('NÃO ARGENTINO')).show(50)"
   ]
  },
  {
   "cell_type": "code",
   "execution_count": null,
   "id": "29c1cf63",
   "metadata": {},
   "outputs": [],
   "source": [
    "europa = ['Sweden', 'Germany', 'France', 'Belgium', 'Croatia', 'Spain', 'Denmark', 'Iceland', 'Switzerland', 'England', 'Poland', 'Portugal', 'Serbia']\n",
    "asia = ['Russia', 'IR Iran', 'Nigeria', 'Korea Republic', 'Saudi Arabia', 'Japan', ]\n",
    "africa = ['Senegal', 'Morocco', 'Tunisia', 'Egypt']\n",
    "oceania = ['Australia']\n",
    "america_norte = ['Panama', 'Mexico', 'Costa Rica']\n",
    "america_sul = ['Argentina', 'Peru', 'Uruguay', 'Brazil', 'Colombia']"
   ]
  },
  {
   "cell_type": "code",
   "execution_count": null,
   "id": "e22e4cfd",
   "metadata": {},
   "outputs": [],
   "source": [
    "df = df.withColumn('Continente', when(col('Selecao').isin(europa), 'Europa')\\\n",
    "             .when(col('Selecao').isin(asia), 'Ásia')\\\n",
    "             .when(col('Selecao').isin(africa), 'África')\\\n",
    "             .when(col('Selecao').isin(oceania), 'Oceania')\\\n",
    "             .when(col('Selecao').isin(america_norte), 'América do Norte')\\\n",
    "             .when(col('Selecao').isin(america_sul), 'América do Sul')\\\n",
    "             .otherwise('Verificar'))\n",
    "df.show(5)"
   ]
  },
  {
   "cell_type": "code",
   "execution_count": null,
   "id": "79a79b0f",
   "metadata": {},
   "outputs": [],
   "source": [
    "df.filter('Continente = \"Verificar\"').show(50)"
   ]
  },
  {
   "cell_type": "code",
   "execution_count": null,
   "id": "414a6df6",
   "metadata": {},
   "outputs": [],
   "source": []
  },
  {
   "cell_type": "markdown",
   "id": "4456e3d1",
   "metadata": {},
   "source": [
    "##### Union (Concat)"
   ]
  },
  {
   "cell_type": "code",
   "execution_count": null,
   "id": "10a3780b",
   "metadata": {},
   "outputs": [],
   "source": [
    "df_america_sul = df.filter('Continente = \"América do Sul\"')\n",
    "df_america_sul.select('Selecao').distinct().show()"
   ]
  },
  {
   "cell_type": "code",
   "execution_count": null,
   "id": "cda51bcb",
   "metadata": {},
   "outputs": [],
   "source": [
    "df_america_norte = df.filter('Continente = \"América do Norte\"')\n",
    "df_america_norte.select('Selecao').distinct().show()"
   ]
  },
  {
   "cell_type": "code",
   "execution_count": null,
   "id": "a2628250",
   "metadata": {},
   "outputs": [],
   "source": [
    "df_americas = df_america_sul.union(df_america_norte)"
   ]
  },
  {
   "cell_type": "code",
   "execution_count": null,
   "id": "adba578c",
   "metadata": {},
   "outputs": [],
   "source": [
    "df_americas.show(100)"
   ]
  },
  {
   "cell_type": "code",
   "execution_count": null,
   "id": "ef3617f4",
   "metadata": {},
   "outputs": [],
   "source": [
    "df_americas.select('Selecao').distinct().show()"
   ]
  },
  {
   "cell_type": "code",
   "execution_count": null,
   "id": "929ae70e",
   "metadata": {},
   "outputs": [],
   "source": [
    "# A QUANTIDADE DE COLUNAS DEVE SER A MESMA"
   ]
  },
  {
   "cell_type": "code",
   "execution_count": null,
   "id": "7a2a9f3f",
   "metadata": {},
   "outputs": [],
   "source": [
    "df_america_sul = df_america_sul.drop('Continente')"
   ]
  },
  {
   "cell_type": "code",
   "execution_count": null,
   "id": "69d3662c",
   "metadata": {},
   "outputs": [],
   "source": [
    "df_america_norte.show(4)"
   ]
  },
  {
   "cell_type": "code",
   "execution_count": null,
   "id": "ee90f235",
   "metadata": {},
   "outputs": [],
   "source": [
    "df_americas = df_america_sul.union(df_america_norte)"
   ]
  },
  {
   "cell_type": "code",
   "execution_count": null,
   "id": "a2eaa06c",
   "metadata": {},
   "outputs": [],
   "source": [
    "# COLUNAS COM TIPOS OU NOMES DIFERENTES TAMBÉM CONCATENAM\n",
    "\n",
    "# OBS: Cuidado para não concatenar colunas em posições diferentes"
   ]
  },
  {
   "cell_type": "code",
   "execution_count": null,
   "id": "4beefdba",
   "metadata": {},
   "outputs": [],
   "source": [
    "df_america_norte = df_america_norte.withColumn('Continente', lit(100))\n",
    "df_america_norte.printSchema()"
   ]
  },
  {
   "cell_type": "code",
   "execution_count": null,
   "id": "7d7d7a0a",
   "metadata": {},
   "outputs": [],
   "source": [
    "df_america_norte.show(6)"
   ]
  },
  {
   "cell_type": "code",
   "execution_count": null,
   "id": "ec7cc9ec",
   "metadata": {},
   "outputs": [],
   "source": [
    "df_americas = df_america_norte.union(df_america_sul)\n",
    "df_americas.show(200)"
   ]
  },
  {
   "cell_type": "code",
   "execution_count": null,
   "id": "92662a73",
   "metadata": {},
   "outputs": [],
   "source": [
    "df_america_sul = df_america_sul.withColumnRenamed('Continente', 'NOVA COLUNA DOIDA')"
   ]
  },
  {
   "cell_type": "code",
   "execution_count": null,
   "id": "87ffea63",
   "metadata": {},
   "outputs": [],
   "source": [
    "df_america_norte.show(5)"
   ]
  },
  {
   "cell_type": "code",
   "execution_count": null,
   "id": "0ac1cf72",
   "metadata": {},
   "outputs": [],
   "source": [
    "df_americas = df_america_sul.union(df_america_norte)\n",
    "df_americas.show(200)"
   ]
  },
  {
   "cell_type": "markdown",
   "id": "abbc7e45",
   "metadata": {},
   "source": [
    "##### Joins"
   ]
  },
  {
   "cell_type": "code",
   "execution_count": null,
   "id": "f3fada23",
   "metadata": {},
   "outputs": [],
   "source": [
    "df.show(5)"
   ]
  },
  {
   "cell_type": "code",
   "execution_count": null,
   "id": "49d05eed",
   "metadata": {},
   "outputs": [],
   "source": [
    "arg = df.filter('Selecao = \"Argentina\"')\n",
    "bra = df.filter('Selecao = \"Brazil\"')"
   ]
  },
  {
   "cell_type": "code",
   "execution_count": null,
   "id": "5902b465",
   "metadata": {},
   "outputs": [],
   "source": [
    "arg = arg.drop('Time', 'Dia', 'Mes', 'Ano', 'Continente', 'Peso', 'Data_Nascimento')\n",
    "bra = bra.drop('Time', 'Dia', 'Mes', 'Ano', 'Continente', 'Peso', 'Data_Nascimento')"
   ]
  },
  {
   "cell_type": "code",
   "execution_count": null,
   "id": "2ec77fa5",
   "metadata": {},
   "outputs": [],
   "source": [
    "arg.show(5)"
   ]
  },
  {
   "cell_type": "code",
   "execution_count": null,
   "id": "9ee2535b",
   "metadata": {},
   "outputs": [],
   "source": [
    "bra.show(50)"
   ]
  },
  {
   "cell_type": "code",
   "execution_count": null,
   "id": "b0f635aa",
   "metadata": {},
   "outputs": [],
   "source": [
    "arg.count()"
   ]
  },
  {
   "cell_type": "markdown",
   "id": "d6bd39fd",
   "metadata": {},
   "source": [
    "##### Join - Simples"
   ]
  },
  {
   "cell_type": "code",
   "execution_count": null,
   "id": "2f2e47ba",
   "metadata": {},
   "outputs": [],
   "source": [
    "# Dados dos joins 100% correspondentes"
   ]
  },
  {
   "cell_type": "code",
   "execution_count": null,
   "id": "78bba01b",
   "metadata": {},
   "outputs": [],
   "source": [
    "dfnovo = arg.join(bra, arg.Numero == bra.Numero)\n",
    "dfnovo.show(25)"
   ]
  },
  {
   "cell_type": "code",
   "execution_count": null,
   "id": "d938bc42",
   "metadata": {},
   "outputs": [],
   "source": [
    "arg = arg.withColumn('Numero', col('Numero') + 1)\n",
    "arg.show(23)"
   ]
  },
  {
   "cell_type": "markdown",
   "id": "b0077907",
   "metadata": {},
   "source": [
    "##### Inner Join"
   ]
  },
  {
   "cell_type": "code",
   "execution_count": null,
   "id": "da08a141",
   "metadata": {},
   "outputs": [],
   "source": [
    "# Mostra apenas os dados que têm correspondências"
   ]
  },
  {
   "cell_type": "code",
   "execution_count": null,
   "id": "d53af3e9",
   "metadata": {},
   "outputs": [],
   "source": [
    "dfnovo = arg.join(bra, arg['Numero'] == bra['Numero'], 'inner')\n",
    "dfnovo.show(40)"
   ]
  },
  {
   "cell_type": "markdown",
   "id": "23f762e3",
   "metadata": {},
   "source": [
    "##### Left Join"
   ]
  },
  {
   "cell_type": "code",
   "execution_count": null,
   "id": "9f05a03b",
   "metadata": {},
   "outputs": [],
   "source": [
    "# Mostra todos os dados do DF do lado ESQUERDO\n",
    "# (valores do lado dir que não tiverem correspondências, serão mostrados como nulos)"
   ]
  },
  {
   "cell_type": "code",
   "execution_count": null,
   "id": "a5ebfbeb",
   "metadata": {},
   "outputs": [],
   "source": [
    "dfnovo = arg.join(bra, arg['Numero'] == bra['Numero'], 'left')\n",
    "dfnovo.show(40)"
   ]
  },
  {
   "cell_type": "markdown",
   "id": "8010a9e2",
   "metadata": {},
   "source": [
    "##### Right Join"
   ]
  },
  {
   "cell_type": "code",
   "execution_count": null,
   "id": "29384698",
   "metadata": {},
   "outputs": [],
   "source": [
    "# Mostra todos os dados do DF do lado DIREITO\n",
    "# (valores do lado esquerdo que não tiverem correspondências, serão mostrados como nulos)"
   ]
  },
  {
   "cell_type": "code",
   "execution_count": null,
   "id": "3c5bb1a4",
   "metadata": {},
   "outputs": [],
   "source": [
    "dfnovo = arg.join(bra, arg['Numero'] == bra['Numero'], 'right')\n",
    "dfnovo.show(40)"
   ]
  },
  {
   "cell_type": "markdown",
   "id": "ada7ee20",
   "metadata": {},
   "source": [
    "##### Full Join"
   ]
  },
  {
   "cell_type": "code",
   "execution_count": null,
   "id": "770c874b",
   "metadata": {},
   "outputs": [],
   "source": [
    "# Será mostrado todas as linhas\n",
    "# (valores que não corresponderem, serão mostrado como nulos em ambos os lados)"
   ]
  },
  {
   "cell_type": "code",
   "execution_count": null,
   "id": "cee8a521",
   "metadata": {},
   "outputs": [],
   "source": [
    "dfnovo = arg.join(bra, arg['Numero'] == bra['Numero'], 'full')\n",
    "dfnovo.show(40)"
   ]
  },
  {
   "cell_type": "markdown",
   "id": "56cc5cda",
   "metadata": {},
   "source": [
    "##### Semi Join"
   ]
  },
  {
   "cell_type": "code",
   "execution_count": null,
   "id": "2bd34408",
   "metadata": {},
   "outputs": [],
   "source": [
    "# Similar ao INNER JOIN, porém apenas os dados do DataFrame esquerdo é mostrado"
   ]
  },
  {
   "cell_type": "code",
   "execution_count": null,
   "id": "03a70bd4",
   "metadata": {},
   "outputs": [],
   "source": [
    "dfnovo = bra.join(arg, arg['Numero'] == bra['Numero'], 'semi')\n",
    "dfnovo.show(40)"
   ]
  },
  {
   "cell_type": "markdown",
   "id": "e981b379",
   "metadata": {},
   "source": [
    "##### Anti Join"
   ]
  },
  {
   "cell_type": "code",
   "execution_count": null,
   "id": "373cdfe2",
   "metadata": {},
   "outputs": [],
   "source": [
    "# Mostra os dados do DF do lado esquerdo que NÃO possuem correspondências"
   ]
  },
  {
   "cell_type": "code",
   "execution_count": null,
   "id": "2acad84f",
   "metadata": {},
   "outputs": [],
   "source": [
    "dfnovo = arg.join(bra, arg['Numero'] == bra['Numero'], 'anti')\n",
    "dfnovo.show(40)"
   ]
  },
  {
   "cell_type": "code",
   "execution_count": null,
   "id": "a613a3e4",
   "metadata": {},
   "outputs": [],
   "source": []
  },
  {
   "cell_type": "code",
   "execution_count": null,
   "id": "1483e0b0",
   "metadata": {},
   "outputs": [],
   "source": []
  },
  {
   "cell_type": "code",
   "execution_count": null,
   "id": "ed7096e2",
   "metadata": {},
   "outputs": [],
   "source": []
  }
 ],
 "metadata": {
  "kernelspec": {
   "display_name": "Python 3 (ipykernel)",
   "language": "python",
   "name": "python3"
  },
  "language_info": {
   "codemirror_mode": {
    "name": "ipython",
    "version": 3
   },
   "file_extension": ".py",
   "mimetype": "text/x-python",
   "name": "python",
   "nbconvert_exporter": "python",
   "pygments_lexer": "ipython3",
   "version": "3.10.9"
  }
 },
 "nbformat": 4,
 "nbformat_minor": 5
}
