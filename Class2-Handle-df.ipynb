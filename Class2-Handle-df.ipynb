{
 "cells": [
  {
   "cell_type": "markdown",
   "id": "2c23578e",
   "metadata": {},
   "source": [
    "PySpark - Aula 02 - Window Functions - Português - Hands On\n",
    "\n",
    "Introdução\n",
    "01:00 - Importação bibliotecas / funções\n",
    "01:24 - Criar Sessão PySpark\n",
    "01:28 - Criar DF / ler arquivo\n",
    "03:01 - Drop de Colunas\n",
    "\n",
    "04:29 - Window Ranking Function\n",
    "\n",
    "04:37 - Window Function 1 - Numero de linhas - row_number()\n",
    "11:30 - Window Function 2 - Ranking 1 - rank()\n",
    "15:07 - Window Function 3 - Ranking 2 - dense_rank()\n",
    "17:32 - Window Function 4 - Porcentagem Ranking - percent_rank()\n",
    "20:16 - Window Function 5 - Divisão em ' N ' partes - ntile()\n",
    "\n",
    "\n",
    "23:34 - Window Analytic Functions (Funções analíticas)\n",
    "\n",
    "23:45 - Window Function 6 - LAG / Degrau - lag()\n",
    "28:06 - Window Function 7 - Lead / Degrau - lead()\n",
    "30:13 - Agregações\n",
    "30:24 - GroupBy + AGG 1\n",
    "34:17 - GroupBy + AGG 2\n",
    "36:18 - Where\n",
    "41:15 - Describe\n",
    "43:25 - Window Function 8 - Função de agregação usando Window Function\n",
    "\n",
    "Renan Marques\n",
    "https://www.youtube.com/watch?v=MG-QBpEXvjg"
   ]
  },
  {
   "cell_type": "code",
   "execution_count": null,
   "id": "9a1ea163",
   "metadata": {},
   "outputs": [],
   "source": [
    "import pyspark\n",
    "from pyspark.sql import SparkSession\n",
    "from pyspark.sql.functions import *\n",
    "from pyspark.sql.types import *"
   ]
  },
  {
   "cell_type": "code",
   "execution_count": null,
   "id": "02527de6",
   "metadata": {},
   "outputs": [],
   "source": [
    "from pyspark.sql import SparkSession\n",
    "\n",
    "spark = SparkSession.builder \\\n",
    "    .appName(\"Pyspark01\") \\\n",
    "    .getOrCreate()"
   ]
  },
  {
   "cell_type": "code",
   "execution_count": null,
   "id": "4d4d2511",
   "metadata": {},
   "outputs": [],
   "source": [
    "df = spark.read.csv('archive/wc2018-players.csv', header=True, inferSchema=True)"
   ]
  },
  {
   "cell_type": "code",
   "execution_count": null,
   "id": "6f1b3388",
   "metadata": {},
   "outputs": [],
   "source": [
    "df.show(2)"
   ]
  },
  {
   "cell_type": "code",
   "execution_count": null,
   "id": "6132888c",
   "metadata": {},
   "outputs": [],
   "source": [
    "df = df.withColumnRenamed('Team', 'Selecao').withColumnRenamed('#', 'Numero').withColumnRenamed('Pos.', 'Posicao')\\\n",
    ".withColumnRenamed('FIFA Popular Name', 'Nome').withColumnRenamed('Birth Date', 'Nascimento')\\\n",
    ".withColumnRenamed('Shirt Name', 'Nome Camiseta').withColumnRenamed('Club', 'Time').withColumnRenamed('Height', 'Altura')\\\n",
    ".withColumnRenamed('Weight', 'Peso')"
   ]
  },
  {
   "cell_type": "code",
   "execution_count": null,
   "id": "afb0b61c",
   "metadata": {},
   "outputs": [],
   "source": [
    "dia = udf(lambda data: data.split('.')[0])"
   ]
  },
  {
   "cell_type": "code",
   "execution_count": null,
   "id": "5aaa34e0",
   "metadata": {},
   "outputs": [],
   "source": [
    "df.withColumn('Dia', dia('Nascimento')).show()"
   ]
  },
  {
   "cell_type": "code",
   "execution_count": null,
   "id": "88c2e0a7",
   "metadata": {},
   "outputs": [],
   "source": [
    "df.show()"
   ]
  },
  {
   "cell_type": "code",
   "execution_count": null,
   "id": "524ed34e",
   "metadata": {},
   "outputs": [],
   "source": []
  },
  {
   "cell_type": "code",
   "execution_count": null,
   "id": "99105bd4",
   "metadata": {},
   "outputs": [],
   "source": []
  },
  {
   "cell_type": "code",
   "execution_count": null,
   "id": "2cd77788",
   "metadata": {},
   "outputs": [],
   "source": []
  },
  {
   "cell_type": "code",
   "execution_count": null,
   "id": "6385e981",
   "metadata": {},
   "outputs": [],
   "source": []
  },
  {
   "cell_type": "code",
   "execution_count": null,
   "id": "61feaf43",
   "metadata": {},
   "outputs": [],
   "source": []
  }
 ],
 "metadata": {
  "kernelspec": {
   "display_name": "Python 3 (ipykernel)",
   "language": "python",
   "name": "python3"
  },
  "language_info": {
   "codemirror_mode": {
    "name": "ipython",
    "version": 3
   },
   "file_extension": ".py",
   "mimetype": "text/x-python",
   "name": "python",
   "nbconvert_exporter": "python",
   "pygments_lexer": "ipython3",
   "version": "3.10.9"
  }
 },
 "nbformat": 4,
 "nbformat_minor": 5
}
