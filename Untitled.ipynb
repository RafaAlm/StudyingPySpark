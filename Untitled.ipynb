{
 "cells": [
  {
   "cell_type": "code",
   "execution_count": null,
   "id": "aa69c643",
   "metadata": {},
   "outputs": [],
   "source": [
    "#Window Ranking Function\n",
    "\n",
    "# Window Function 1 - Numero de linhas - row_number()\n",
    "# Window Function 2 - Ranking 1 - rank()\n",
    "# Window Function 3 - Ranking 2 - dense_rank()\n",
    "# Window Function 4 - Porcentagem Ranking - percent_rank()\n",
    "# Window Function 5 - Divisão em ' N ' partes - ntile()"
   ]
  },
  {
   "cell_type": "code",
   "execution_count": null,
   "id": "7e0150ef",
   "metadata": {},
   "outputs": [],
   "source": [
    "# Window Analytic Functions (Funções analíticas)\n",
    "# Window Function 6 - LAG / Degrau - lag()\n",
    "# Window Function 7 - Lead / Degrau - lead()\n",
    "# Agregações\n",
    "# GroupBy + AGG 1\n",
    "# Where\n",
    "# Describe\n",
    "# Window Function 8 - Função de agregação usando Window Function"
   ]
  },
  {
   "cell_type": "code",
   "execution_count": null,
   "id": "30e29754",
   "metadata": {},
   "outputs": [],
   "source": [
    "import os\n",
    "import sys\n",
    "from pyspark.sql import SparkSession\n",
    "from pyspark.sql.functions import *\n",
    "from pyspark.sql.types import *\n",
    "\n",
    "os.environ['PYSPARK_PYTHON'] = sys.executable\n",
    "os.environ['PYSPARK_DRIVER_PYTHON'] = sys.executable"
   ]
  },
  {
   "cell_type": "code",
   "execution_count": null,
   "id": "d1c2c5ad",
   "metadata": {},
   "outputs": [],
   "source": [
    "from pyspark.sql.window import Window # Importando window function"
   ]
  },
  {
   "cell_type": "code",
   "execution_count": null,
   "id": "9ed62068",
   "metadata": {},
   "outputs": [],
   "source": [
    "spark = (\n",
    "    SparkSession.builder\n",
    "    .master('local')\n",
    "    .appName('PySpark_02')\n",
    "    .getOrCreate()\n",
    ")"
   ]
  },
  {
   "cell_type": "code",
   "execution_count": null,
   "id": "a2976a43",
   "metadata": {},
   "outputs": [],
   "source": [
    "df = spark.read.csv('Arquivos/wc2018-players.csv', header=True, inferSchema=True)"
   ]
  },
  {
   "cell_type": "code",
   "execution_count": null,
   "id": "ddbca7f0",
   "metadata": {},
   "outputs": [],
   "source": [
    "df.show(5)"
   ]
  },
  {
   "cell_type": "code",
   "execution_count": null,
   "id": "2b23c17a",
   "metadata": {},
   "outputs": [],
   "source": [
    "df = df.withColumnRenamed('Team', 'Selecao').withColumnRenamed('#', 'Numero').withColumnRenamed('Pos.', 'Posicao')\\\n",
    ".withColumnRenamed('FIFA Popular Name', 'Nome_FIFA').withColumnRenamed('Birth Date', 'Nascimento')\\\n",
    ".withColumnRenamed('Shirt Name', 'Nome Camiseta').withColumnRenamed('Club', 'Time').withColumnRenamed('Height', 'Altura')\\\n",
    ".withColumnRenamed('Weight', 'Peso')"
   ]
  },
  {
   "cell_type": "code",
   "execution_count": null,
   "id": "909336ef",
   "metadata": {},
   "outputs": [],
   "source": [
    "dia = udf(lambda data: data.split('.')[0])\n",
    "mes = udf(lambda data: data.split('.')[1])\n",
    "ano = udf(lambda data: data.split('.')[2])"
   ]
  },
  {
   "cell_type": "code",
   "execution_count": null,
   "id": "29f7695d",
   "metadata": {},
   "outputs": [],
   "source": [
    "df = df.withColumn('Dia', dia('Nascimento')).withColumn('Mes', mes('Nascimento')).withColumn('Ano', ano('nascimento'))\n",
    "df = df.withColumn('Data_Nascimento', concat_ws('-', 'Ano', 'Mes', 'Dia').cast(DateType()))\n",
    "df.show(5)"
   ]
  },
  {
   "cell_type": "code",
   "execution_count": null,
   "id": "95d707b6",
   "metadata": {},
   "outputs": [],
   "source": [
    "df = df.drop('Nascimento')"
   ]
  },
  {
   "cell_type": "code",
   "execution_count": null,
   "id": "61d54cea",
   "metadata": {},
   "outputs": [],
   "source": [
    "num_linha = Window.partitionBy('Selecao').orderBy(desc('Altura'))\n",
    "\n",
    "df.withColumn('n', row_number().over(num_linha)).show(50)"
   ]
  },
  {
   "cell_type": "code",
   "execution_count": null,
   "id": "85f61466",
   "metadata": {},
   "outputs": [],
   "source": [
    "rank1 = Window.partitionBy('Selecao').orderBy(desc('Altura'))\n",
    "\n",
    "df.withColumn('rank', rank().over(rank1)).show(50)"
   ]
  },
  {
   "cell_type": "code",
   "execution_count": null,
   "id": "59faecc8",
   "metadata": {},
   "outputs": [],
   "source": [
    "rank2 = Window.partitionBy('Selecao').orderBy(desc('Altura'))\n",
    "\n",
    "df.withColumn('rank2', dense_rank().over(rank2)).show(50)"
   ]
  },
  {
   "cell_type": "code",
   "execution_count": null,
   "id": "1a063e8a",
   "metadata": {},
   "outputs": [],
   "source": [
    "porcentagem = Window.partitionBy('Selecao').orderBy(desc('Altura'))\n",
    "\n",
    "df.withColumn('%', percent_rank().over(porcentagem)).show(50)"
   ]
  },
  {
   "cell_type": "code",
   "execution_count": null,
   "id": "3d1beb9b",
   "metadata": {},
   "outputs": [],
   "source": [
    "parte = Window.partitionBy('Selecao').orderBy(desc('Altura'))\n",
    "\n",
    "df.withColumn('Par', ntile(5).over(parte)).show(50)"
   ]
  },
  {
   "cell_type": "code",
   "execution_count": null,
   "id": "b1e2b4a3",
   "metadata": {},
   "outputs": [],
   "source": [
    "df = df.drop('Nome_Fifa')"
   ]
  },
  {
   "cell_type": "code",
   "execution_count": null,
   "id": "580ac803",
   "metadata": {},
   "outputs": [],
   "source": [
    "degrau = Window.partitionBy('Selecao').orderBy(desc(\"Altura\"))\n",
    "\n",
    "df.withColumn('degrau', lag('Altura', 5).over(degrau)).show(50)"
   ]
  },
  {
   "cell_type": "code",
   "execution_count": null,
   "id": "62f53a16",
   "metadata": {},
   "outputs": [],
   "source": [
    "degrau = Window.partitionBy('Selecao').orderBy(desc(\"Altura\"))\n",
    "\n",
    "df.withColumn('degrau', lead('Altura').over(degrau)).show(50)"
   ]
  },
  {
   "cell_type": "code",
   "execution_count": null,
   "id": "8d8c1fb4",
   "metadata": {},
   "outputs": [],
   "source": [
    "df.groupBy('Selecao').agg({'Altura':'avg'}).orderBy('avg(Altura)', ascending=False).show(50)"
   ]
  },
  {
   "cell_type": "code",
   "execution_count": null,
   "id": "07e9bfdc",
   "metadata": {},
   "outputs": [],
   "source": [
    "df.groupBy('Selecao').agg(max('Altura')).orderBy('max(Altura)', ascending=False).show(50)"
   ]
  },
  {
   "cell_type": "code",
   "execution_count": null,
   "id": "6ba0493a",
   "metadata": {},
   "outputs": [],
   "source": [
    "df.where('Selecao = \"Brazil\"').where('Posicao = \"DF\"').show(25)\n",
    "\n",
    "where((condicao 1) & | (condicao))"
   ]
  },
  {
   "cell_type": "code",
   "execution_count": null,
   "id": "2071eccf",
   "metadata": {},
   "outputs": [],
   "source": [
    "top1 = Window.partitionBy('Selecao').orderBy(desc(\"Altura\"))\n",
    "\n",
    "df.withColumn('Top', row_number().over(top1)).filter('Top = \"1\"').show(50)"
   ]
  },
  {
   "cell_type": "code",
   "execution_count": null,
   "id": "fc8afcc5",
   "metadata": {},
   "outputs": [],
   "source": [
    "df.describe().show()"
   ]
  },
  {
   "cell_type": "code",
   "execution_count": null,
   "id": "2551ce0e",
   "metadata": {},
   "outputs": [],
   "source": [
    "df.where('Selecao = \"Brazil\"').describe().show()"
   ]
  },
  {
   "cell_type": "code",
   "execution_count": null,
   "id": "11090e94",
   "metadata": {},
   "outputs": [],
   "source": [
    "parametro = Window.partitionBy('Selecao').orderBy(desc(\"Altura\"))\n",
    "parametro2 = Window.partitionBy('Selecao')\n",
    "\n",
    "df.withColumn('linhax', row_number().over(parametro))\\\n",
    "\\\n",
    ".withColumn('media', avg('Altura').over(parametro2))\\\n",
    ".withColumn('max', max('Altura').over(parametro2))\\\n",
    ".withColumn('min', min('Altura').over(parametro2))\\\n",
    ".filter('linhax = \"1\"').select('Selecao', 'media', 'max', 'min')\\\n",
    ".orderBy('media', ascending=False).show(50)"
   ]
  }
 ],
 "metadata": {
  "kernelspec": {
   "display_name": "Python 3 (ipykernel)",
   "language": "python",
   "name": "python3"
  },
  "language_info": {
   "codemirror_mode": {
    "name": "ipython",
    "version": 3
   },
   "file_extension": ".py",
   "mimetype": "text/x-python",
   "name": "python",
   "nbconvert_exporter": "python",
   "pygments_lexer": "ipython3",
   "version": "3.10.9"
  }
 },
 "nbformat": 4,
 "nbformat_minor": 5
}
