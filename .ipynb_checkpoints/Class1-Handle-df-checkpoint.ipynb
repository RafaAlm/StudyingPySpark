{
 "cells": [
  {
   "cell_type": "code",
   "execution_count": 1,
   "id": "3686fd83-448a-462b-9e6d-8485d4e16684",
   "metadata": {},
   "outputs": [],
   "source": [
    "import pyspark\n",
    "from pyspark.sql import SparkSession\n",
    "from pyspark.sql.functions import *\n",
    "#from pyspark.types import *"
   ]
  },
  {
   "cell_type": "markdown",
   "id": "951153c1-165e-43c6-bd9b-4a98588d2d96",
   "metadata": {},
   "source": [
    "Criar - Iniciar sessão PySpark"
   ]
  },
  {
   "cell_type": "code",
   "execution_count": 2,
   "id": "9470893e-31fb-45d1-851a-20320575dd2d",
   "metadata": {},
   "outputs": [],
   "source": [
    "from pyspark.sql import SparkSession\n",
    "\n",
    "spark = SparkSession.builder \\\n",
    "    .appName(\"Pyspark01\") \\\n",
    "    .getOrCreate()"
   ]
  },
  {
   "cell_type": "code",
   "execution_count": 3,
   "id": "eecef88a",
   "metadata": {},
   "outputs": [],
   "source": [
    "df = spark.read.csv('archive/wc2018-players.csv', header=True, inferSchema=True)"
   ]
  },
  {
   "cell_type": "code",
   "execution_count": 4,
   "id": "4e68b0a7",
   "metadata": {},
   "outputs": [
    {
     "name": "stdout",
     "output_type": "stream",
     "text": [
      "+---------+---+----+------------------+----------+----------+--------------------+------+------+\n",
      "|     Team|  #|Pos.| FIFA Popular Name|Birth Date|Shirt Name|                Club|Height|Weight|\n",
      "+---------+---+----+------------------+----------+----------+--------------------+------+------+\n",
      "|Argentina|  3|  DF|TAGLIAFICO Nicolas|31.08.1992|TAGLIAFICO|      AFC Ajax (NED)|   169|    65|\n",
      "|Argentina| 22|  MF|    PAVON Cristian|21.01.1996|     PAVÓN|CA Boca Juniors (...|   169|    65|\n",
      "|Argentina| 15|  MF|    LANZINI Manuel|15.02.1993|   LANZINI|West Ham United F...|   167|    66|\n",
      "|Argentina| 18|  DF|    SALVIO Eduardo|13.07.1990|    SALVIO|    SL Benfica (POR)|   167|    69|\n",
      "|Argentina| 10|  FW|      MESSI Lionel|24.06.1987|     MESSI|  FC Barcelona (ESP)|   170|    72|\n",
      "+---------+---+----+------------------+----------+----------+--------------------+------+------+\n",
      "only showing top 5 rows\n",
      "\n"
     ]
    }
   ],
   "source": [
    "df.show(5)"
   ]
  },
  {
   "cell_type": "code",
   "execution_count": 5,
   "id": "8c62b0d8",
   "metadata": {},
   "outputs": [
    {
     "name": "stdout",
     "output_type": "stream",
     "text": [
      "root\n",
      " |-- Team: string (nullable = true)\n",
      " |-- #: integer (nullable = true)\n",
      " |-- Pos.: string (nullable = true)\n",
      " |-- FIFA Popular Name: string (nullable = true)\n",
      " |-- Birth Date: string (nullable = true)\n",
      " |-- Shirt Name: string (nullable = true)\n",
      " |-- Club: string (nullable = true)\n",
      " |-- Height: integer (nullable = true)\n",
      " |-- Weight: integer (nullable = true)\n",
      "\n"
     ]
    }
   ],
   "source": [
    "df.printSchema()"
   ]
  },
  {
   "cell_type": "markdown",
   "id": "b9fa28e4",
   "metadata": {},
   "source": [
    "Verificar valores nulos"
   ]
  },
  {
   "cell_type": "code",
   "execution_count": 6,
   "id": "8ee5272b",
   "metadata": {},
   "outputs": [
    {
     "data": {
      "text/plain": [
       "Team                 0\n",
       "#                    0\n",
       "Pos.                 0\n",
       "FIFA Popular Name    0\n",
       "Birth Date           0\n",
       "Shirt Name           0\n",
       "Club                 0\n",
       "Height               0\n",
       "Weight               0\n",
       "dtype: int64"
      ]
     },
     "execution_count": 6,
     "metadata": {},
     "output_type": "execute_result"
    }
   ],
   "source": [
    "df.toPandas().isna().sum()"
   ]
  },
  {
   "cell_type": "code",
   "execution_count": 7,
   "id": "78be27aa",
   "metadata": {},
   "outputs": [
    {
     "name": "stdout",
     "output_type": "stream",
     "text": [
      "+---------+------+-------+------------------+----------+----------+--------------------+------+----+\n",
      "|  Selecao|Numero|Posicao|              Nome|Nascimento|Shirt Name|                Time|Altura|Peso|\n",
      "+---------+------+-------+------------------+----------+----------+--------------------+------+----+\n",
      "|Argentina|     3|     DF|TAGLIAFICO Nicolas|31.08.1992|TAGLIAFICO|      AFC Ajax (NED)|   169|  65|\n",
      "|Argentina|    22|     MF|    PAVON Cristian|21.01.1996|     PAVÓN|CA Boca Juniors (...|   169|  65|\n",
      "|Argentina|    15|     MF|    LANZINI Manuel|15.02.1993|   LANZINI|West Ham United F...|   167|  66|\n",
      "|Argentina|    18|     DF|    SALVIO Eduardo|13.07.1990|    SALVIO|    SL Benfica (POR)|   167|  69|\n",
      "|Argentina|    10|     FW|      MESSI Lionel|24.06.1987|     MESSI|  FC Barcelona (ESP)|   170|  72|\n",
      "+---------+------+-------+------------------+----------+----------+--------------------+------+----+\n",
      "only showing top 5 rows\n",
      "\n"
     ]
    }
   ],
   "source": [
    "df = df.withColumnRenamed('Team', 'Selecao').withColumnRenamed('#', 'Numero').withColumnRenamed('Pos.', 'Posicao')\\\n",
    ".withColumnRenamed('FIFA Popular Name', 'Nome').withColumnRenamed('Birth Date', 'Nascimento')\\\n",
    ".withColumnRenamed('Club', 'Time').withColumnRenamed('Height', 'Altura').withColumnRenamed('Weight', 'Peso')\\\n",
    "\n",
    "df.show(5)"
   ]
  },
  {
   "cell_type": "markdown",
   "id": "0632295a",
   "metadata": {},
   "source": [
    "Verificar valores nulos"
   ]
  },
  {
   "cell_type": "code",
   "execution_count": 8,
   "id": "9a7c7629",
   "metadata": {},
   "outputs": [
    {
     "name": "stdout",
     "output_type": "stream",
     "text": [
      "Selecao 0\n",
      "Numero 0\n",
      "Posicao 0\n",
      "Nome 0\n",
      "Nascimento 0\n",
      "Shirt Name 0\n",
      "Time 0\n",
      "Altura 0\n",
      "Peso 0\n"
     ]
    }
   ],
   "source": [
    "for coluna in df.columns:\n",
    "    print(coluna, df.filter(df[coluna].isNull()).count())"
   ]
  },
  {
   "cell_type": "code",
   "execution_count": 9,
   "id": "1da27eb5",
   "metadata": {},
   "outputs": [
    {
     "data": {
      "text/plain": [
       "['Selecao',\n",
       " 'Numero',\n",
       " 'Posicao',\n",
       " 'Nome',\n",
       " 'Nascimento',\n",
       " 'Shirt Name',\n",
       " 'Time',\n",
       " 'Altura',\n",
       " 'Peso']"
      ]
     },
     "execution_count": 9,
     "metadata": {},
     "output_type": "execute_result"
    }
   ],
   "source": [
    "df.columns"
   ]
  },
  {
   "cell_type": "markdown",
   "id": "b8abcf17",
   "metadata": {},
   "source": [
    "Selecionar colunas"
   ]
  },
  {
   "cell_type": "code",
   "execution_count": null,
   "id": "d157b927",
   "metadata": {},
   "outputs": [],
   "source": [
    "df.select('Nome','Selecao').show(7)"
   ]
  },
  {
   "cell_type": "code",
   "execution_count": null,
   "id": "918d1ce6",
   "metadata": {},
   "outputs": [],
   "source": [
    "df.select(col('Time')).show(7)"
   ]
  },
  {
   "cell_type": "code",
   "execution_count": null,
   "id": "c873289b",
   "metadata": {},
   "outputs": [],
   "source": [
    "df.select(df['Selecao']).show(3)"
   ]
  },
  {
   "cell_type": "markdown",
   "id": "179a22f1",
   "metadata": {},
   "source": [
    "Selecionar coluna com ALIAS"
   ]
  },
  {
   "cell_type": "code",
   "execution_count": null,
   "id": "edcbaaa7",
   "metadata": {},
   "outputs": [],
   "source": [
    "df.select(col('Selecao').alias('Time')).show(5)"
   ]
  },
  {
   "cell_type": "markdown",
   "id": "9ae30f89",
   "metadata": {},
   "source": [
    "Select utilizando split"
   ]
  },
  {
   "cell_type": "code",
   "execution_count": 21,
   "id": "54745aa3",
   "metadata": {
    "scrolled": true
   },
   "outputs": [
    {
     "ename": "AttributeError",
     "evalue": "'NoneType' object has no attribute 'select'",
     "output_type": "error",
     "traceback": [
      "\u001b[1;31m---------------------------------------------------------------------------\u001b[0m",
      "\u001b[1;31mAttributeError\u001b[0m                            Traceback (most recent call last)",
      "Cell \u001b[1;32mIn[21], line 1\u001b[0m\n\u001b[1;32m----> 1\u001b[0m \u001b[43mdf\u001b[49m\u001b[38;5;241;43m.\u001b[39;49m\u001b[43mselect\u001b[49m(\u001b[38;5;124m'\u001b[39m\u001b[38;5;124mSelecao nome altura\u001b[39m\u001b[38;5;124m'\u001b[39m\u001b[38;5;241m.\u001b[39msplit())\u001b[38;5;241m.\u001b[39mshow(\u001b[38;5;241m5\u001b[39m)\n",
      "\u001b[1;31mAttributeError\u001b[0m: 'NoneType' object has no attribute 'select'"
     ]
    }
   ],
   "source": [
    "df.select('Selecao nome altura'.split()).show(5)"
   ]
  },
  {
   "cell_type": "markdown",
   "id": "de61746d",
   "metadata": {},
   "source": [
    "Filtrar DF"
   ]
  },
  {
   "cell_type": "code",
   "execution_count": 11,
   "id": "a8de5ad8",
   "metadata": {},
   "outputs": [
    {
     "name": "stdout",
     "output_type": "stream",
     "text": [
      "+-------+------+-------+-----------+----------+-----------+--------------------+------+----+\n",
      "|Selecao|Numero|Posicao|       Nome|Nascimento| Shirt Name|                Time|Altura|Peso|\n",
      "+-------+------+-------+-----------+----------+-----------+--------------------+------+----+\n",
      "| Brazil|    18|     MF|       FRED|05.03.1993|       FRED|FC Shakhtar Donet...|   169|  64|\n",
      "| Brazil|    21|     FW|     TAISON|13.01.1988|     TAISON|FC Shakhtar Donet...|   172|  64|\n",
      "| Brazil|    17|     MF|FERNANDINHO|04.05.1985|FERNANDINHO|Manchester City F...|   179|  67|\n",
      "+-------+------+-------+-----------+----------+-----------+--------------------+------+----+\n",
      "only showing top 3 rows\n",
      "\n"
     ]
    }
   ],
   "source": [
    "df.filter('Selecao = \"Brazil\"').show(3)"
   ]
  },
  {
   "cell_type": "markdown",
   "id": "ede8b1f0",
   "metadata": {},
   "source": [
    "Filtrar com mais de uma condição"
   ]
  },
  {
   "cell_type": "code",
   "execution_count": 12,
   "id": "0d4ab89b",
   "metadata": {},
   "outputs": [
    {
     "name": "stdout",
     "output_type": "stream",
     "text": [
      "+-------+------+-------+----+----------+----------+--------------------+------+----+\n",
      "|Selecao|Numero|Posicao|Nome|Nascimento|Shirt Name|                Time|Altura|Peso|\n",
      "+-------+------+-------+----+----------+----------+--------------------+------+----+\n",
      "| Brazil|    18|     MF|FRED|05.03.1993|      FRED|FC Shakhtar Donet...|   169|  64|\n",
      "+-------+------+-------+----+----------+----------+--------------------+------+----+\n",
      "\n"
     ]
    }
   ],
   "source": [
    "df.filter((col('Selecao') == \"Brazil\") & (col('Altura') == 169)).show(10)"
   ]
  },
  {
   "cell_type": "code",
   "execution_count": 13,
   "id": "3ae2bc4d",
   "metadata": {},
   "outputs": [
    {
     "name": "stdout",
     "output_type": "stream",
     "text": [
      "+-------+------+-------+-----------------+----------+-----------+--------------------+------+----+\n",
      "|Selecao|Numero|Posicao|             Nome|Nascimento| Shirt Name|                Time|Altura|Peso|\n",
      "+-------+------+-------+-----------------+----------+-----------+--------------------+------+----+\n",
      "| Brazil|    18|     MF|             FRED|05.03.1993|       FRED|FC Shakhtar Donet...|   169|  64|\n",
      "| Brazil|    21|     FW|           TAISON|13.01.1988|     TAISON|FC Shakhtar Donet...|   172|  64|\n",
      "| Brazil|    17|     MF|      FERNANDINHO|04.05.1985|FERNANDINHO|Manchester City F...|   179|  67|\n",
      "| Brazil|    22|     DF|           FAGNER|11.06.1989|     FAGNER|SC Corinthians (BRA)|   168|  67|\n",
      "| Brazil|    11|     MF|PHILIPPE COUTINHO|12.06.1992|P. COUTINHO|  FC Barcelona (ESP)|   172|  68|\n",
      "+-------+------+-------+-----------------+----------+-----------+--------------------+------+----+\n",
      "only showing top 5 rows\n",
      "\n"
     ]
    }
   ],
   "source": [
    "df.filter('Selecao = \"Brazil\"').filter(col('Numero') > 10).show(5)"
   ]
  },
  {
   "cell_type": "markdown",
   "id": "b71af9c2",
   "metadata": {},
   "source": [
    "Filtro condicional \"OU\" = |"
   ]
  },
  {
   "cell_type": "code",
   "execution_count": 14,
   "id": "35a585b7",
   "metadata": {},
   "outputs": [
    {
     "name": "stdout",
     "output_type": "stream",
     "text": [
      "+---------+------+-------+------------+----------+----------+------------------+------+----+\n",
      "|  Selecao|Numero|Posicao|        Nome|Nascimento|Shirt Name|              Time|Altura|Peso|\n",
      "+---------+------+-------+------------+----------+----------+------------------+------+----+\n",
      "|Argentina|    10|     FW|MESSI Lionel|24.06.1987|     MESSI|FC Barcelona (ESP)|   170|  72|\n",
      "+---------+------+-------+------------+----------+----------+------------------+------+----+\n",
      "\n"
     ]
    }
   ],
   "source": [
    "df.filter((col('Nome') == 'MESSI Lionel') | (col('Nome') == 'Fred')).show()"
   ]
  },
  {
   "cell_type": "markdown",
   "id": "4a7167c6",
   "metadata": {},
   "source": [
    "Filtrar DF combinando & e | (and - Or)"
   ]
  },
  {
   "cell_type": "code",
   "execution_count": 15,
   "id": "8ac5eef8",
   "metadata": {},
   "outputs": [
    {
     "name": "stdout",
     "output_type": "stream",
     "text": [
      "+---------+------+-------+------------+----------+-----------+--------------------+------+----+\n",
      "|  Selecao|Numero|Posicao|        Nome|Nascimento| Shirt Name|                Time|Altura|Peso|\n",
      "+---------+------+-------+------------+----------+-----------+--------------------+------+----+\n",
      "|Argentina|    10|     FW|MESSI Lionel|24.06.1987|      MESSI|  FC Barcelona (ESP)|   170|  72|\n",
      "|   Brazil|    22|     DF|      FAGNER|11.06.1989|     FAGNER|SC Corinthians (BRA)|   168|  67|\n",
      "|   Brazil|     6|     DF| FILIPE LUIS|09.08.1985|FILIPE LUIS|Atletico Madrid (...|   182|  73|\n",
      "|   Brazil|    13|     DF|  MARQUINHOS|14.05.1994| MARQUINHOS|Paris Saint-Germa...|   183|  75|\n",
      "|   Brazil|     3|     DF|     MIRANDA|07.09.1984|    MIRANDA|FC Internazionale...|   186|  78|\n",
      "+---------+------+-------+------------+----------+-----------+--------------------+------+----+\n",
      "only showing top 5 rows\n",
      "\n"
     ]
    }
   ],
   "source": [
    "df.filter((col('Selecao') == \"Brazil\") & (col('Posicao') == 'DF') | (col('Nome') == 'MESSI Lionel')).show(5)"
   ]
  },
  {
   "cell_type": "code",
   "execution_count": 16,
   "id": "4b9b6b7e",
   "metadata": {},
   "outputs": [
    {
     "name": "stdout",
     "output_type": "stream",
     "text": [
      "+---------+------+-------+------------------+----------+----------+--------------------+------+----+\n",
      "|  Selecao|Numero|Posicao|              Nome|Nascimento|Shirt Name|                Time|Altura|Peso|\n",
      "+---------+------+-------+------------------+----------+----------+--------------------+------+----+\n",
      "|Argentina|     3|     DF|TAGLIAFICO Nicolas|31.08.1992|TAGLIAFICO|      AFC Ajax (NED)|   169|  65|\n",
      "|Argentina|    22|     MF|    PAVON Cristian|21.01.1996|     PAVÓN|CA Boca Juniors (...|   169|  65|\n",
      "|Argentina|    15|     MF|    LANZINI Manuel|15.02.1993|   LANZINI|West Ham United F...|   167|  66|\n",
      "+---------+------+-------+------------------+----------+----------+--------------------+------+----+\n",
      "only showing top 3 rows\n",
      "\n"
     ]
    }
   ],
   "source": [
    "df.show(3)"
   ]
  },
  {
   "cell_type": "markdown",
   "id": "450c7d43",
   "metadata": {},
   "source": [
    "Criar uma coluna nova"
   ]
  },
  {
   "cell_type": "code",
   "execution_count": 17,
   "id": "8804e316",
   "metadata": {},
   "outputs": [],
   "source": [
    "df = df.withColumn('Ano', substring('Nascimento', -4,4))"
   ]
  },
  {
   "cell_type": "code",
   "execution_count": 18,
   "id": "da813b96",
   "metadata": {},
   "outputs": [
    {
     "name": "stdout",
     "output_type": "stream",
     "text": [
      "+---------+------+-------+------------------+----------+----------+--------------------+------+----+----+\n",
      "|  Selecao|Numero|Posicao|              Nome|Nascimento|Shirt Name|                Time|Altura|Peso| Ano|\n",
      "+---------+------+-------+------------------+----------+----------+--------------------+------+----+----+\n",
      "|Argentina|     3|     DF|TAGLIAFICO Nicolas|31.08.1992|TAGLIAFICO|      AFC Ajax (NED)|   169|  65|1992|\n",
      "|Argentina|    22|     MF|    PAVON Cristian|21.01.1996|     PAVÓN|CA Boca Juniors (...|   169|  65|1996|\n",
      "|Argentina|    15|     MF|    LANZINI Manuel|15.02.1993|   LANZINI|West Ham United F...|   167|  66|1993|\n",
      "|Argentina|    18|     DF|    SALVIO Eduardo|13.07.1990|    SALVIO|    SL Benfica (POR)|   167|  69|1990|\n",
      "|Argentina|    10|     FW|      MESSI Lionel|24.06.1987|     MESSI|  FC Barcelona (ESP)|   170|  72|1987|\n",
      "|Argentina|     4|     DF|  ANSALDI Cristian|20.09.1986|   ANSALDI|     Torino FC (ITA)|   181|  73|1986|\n",
      "|Argentina|     5|     MF|      BIGLIA Lucas|30.01.1986|    BIGLIA|      AC Milan (ITA)|   175|  73|1986|\n",
      "|Argentina|     7|     MF|       BANEGA Ever|29.06.1988|    BANEGA|    Sevilla FC (ESP)|   175|  73|1988|\n",
      "|Argentina|    14|     DF| MASCHERANO Javier|08.06.1984|MASCHERANO|Hebei China Fortu...|   174|  73|1984|\n",
      "|Argentina|    21|     FW|      DYBALA Paulo|15.11.1993|    DYBALA|   Juventus FC (ITA)|   177|  73|1993|\n",
      "|Argentina|    19|     FW|     AGUERO Sergio|02.06.1988|    AGÜERO|Manchester City F...|   172|  74|1988|\n",
      "|Argentina|     9|     FW|   HIGUAIN Gonzalo|10.12.1987|   HIGUAÍN|   Juventus FC (ITA)|   184|  75|1987|\n",
      "|Argentina|    11|     MF|    DI MARIA Angel|14.02.1988|  DI MARÍA|Paris Saint-Germa...|   178|  75|1988|\n",
      "|Argentina|    20|     MF|  LO CELSO Giovani|09.04.1996|  LO CELSO|Paris Saint-Germa...|   177|  75|1996|\n",
      "|Argentina|    13|     MF|  MEZA Maximiliano|15.12.1992|      MEZA|CA Independiente ...|   180|  76|1992|\n",
      "|Argentina|     8|     DF|      ACUNA Marcos|28.10.1991|     ACUÑA|   Sporting CP (POR)|   172|  77|1991|\n",
      "|Argentina|    23|     GK|CABALLERO Wilfredo|28.09.1981| CABALLERO|    Chelsea FC (ENG)|   186|  80|1981|\n",
      "|Argentina|     2|     DF|   MERCADO Gabriel|18.03.1987|   MERCADO|    Sevilla FC (ESP)|   181|  81|1987|\n",
      "|Argentina|    17|     DF|  OTAMENDI Nicolas|12.02.1988|  OTAMENDI|Manchester City F...|   181|  81|1988|\n",
      "|Argentina|    16|     DF|       ROJO Marcos|20.03.1990|      ROJO|Manchester United...|   189|  82|1990|\n",
      "+---------+------+-------+------------------+----------+----------+--------------------+------+----+----+\n",
      "only showing top 20 rows\n",
      "\n"
     ]
    }
   ],
   "source": [
    "df.show()"
   ]
  },
  {
   "cell_type": "code",
   "execution_count": null,
   "id": "68571ea6",
   "metadata": {},
   "outputs": [],
   "source": []
  },
  {
   "cell_type": "code",
   "execution_count": 19,
   "id": "acdc3fbb",
   "metadata": {},
   "outputs": [
    {
     "name": "stdout",
     "output_type": "stream",
     "text": [
      "+---------+------+-------+------------------+----------+----------+--------------------+------+----+----+-----------+--------------+\n",
      "|  Selecao|Numero|Posicao|              Nome|Nascimento|Shirt Name|                Time|Altura|Peso| Ano|Aniversario|Ano Nascimento|\n",
      "+---------+------+-------+------------------+----------+----------+--------------------+------+----+----+-----------+--------------+\n",
      "|Argentina|     3|     DF|TAGLIAFICO Nicolas|31.08.1992|TAGLIAFICO|      AFC Ajax (NED)|   169|  65|1992|      31.08|          1992|\n",
      "|Argentina|    22|     MF|    PAVON Cristian|21.01.1996|     PAVÓN|CA Boca Juniors (...|   169|  65|1996|      21.01|          1996|\n",
      "|Argentina|    15|     MF|    LANZINI Manuel|15.02.1993|   LANZINI|West Ham United F...|   167|  66|1993|      15.02|          1993|\n",
      "|Argentina|    18|     DF|    SALVIO Eduardo|13.07.1990|    SALVIO|    SL Benfica (POR)|   167|  69|1990|      13.07|          1990|\n",
      "|Argentina|    10|     FW|      MESSI Lionel|24.06.1987|     MESSI|  FC Barcelona (ESP)|   170|  72|1987|      24.06|          1987|\n",
      "+---------+------+-------+------------------+----------+----------+--------------------+------+----+----+-----------+--------------+\n",
      "only showing top 5 rows\n",
      "\n"
     ]
    }
   ],
   "source": [
    "df = df.withColumn('Aniversario', substring('Nascimento', 1,5)).withColumn('Ano Nascimento', substring('Nascimento', -4,4)).show(5)"
   ]
  },
  {
   "cell_type": "markdown",
   "id": "4a9056c8",
   "metadata": {},
   "source": [
    "Concatenar uma coluna com a outra"
   ]
  },
  {
   "cell_type": "code",
   "execution_count": null,
   "id": "41e6254f",
   "metadata": {},
   "outputs": [],
   "source": [
    "df.show(3)"
   ]
  },
  {
   "cell_type": "markdown",
   "id": "c076ecc1",
   "metadata": {},
   "source": [
    "Concatenar uma coluna utilizando separador"
   ]
  },
  {
   "cell_type": "code",
   "execution_count": null,
   "id": "46c35d86",
   "metadata": {},
   "outputs": [],
   "source": [
    "df.withColumn('Concat', concat_ws(' - ', 'Nome','Numero')).show(3)"
   ]
  },
  {
   "cell_type": "markdown",
   "id": "503af7b3",
   "metadata": {},
   "source": [
    "Alterar o tipo da coluna"
   ]
  },
  {
   "cell_type": "code",
   "execution_count": null,
   "id": "977015f1",
   "metadata": {},
   "outputs": [],
   "source": [
    "df.printSchema()"
   ]
  },
  {
   "cell_type": "code",
   "execution_count": null,
   "id": "1acb68f8",
   "metadata": {},
   "outputs": [],
   "source": [
    "df = df.withColumnRenamed('Team', 'Selecao').withColumnRenamed('#', 'Numero').withColumnRenamed('Pos.', 'Posicao')\\\n",
    ".withColumnRenamed('FIFA Popular Name', 'Nome').withColumnRenamed('Birth Date', 'Nascimento')\\\n",
    ".withColumnRenamed('Club', 'Time').withColumnRenamed('Height', 'Altura').withColumnRenamed('Weight', 'Peso')\\\n",
    "\n",
    "df.show(5)"
   ]
  },
  {
   "cell_type": "code",
   "execution_count": null,
   "id": "3b80b80e",
   "metadata": {},
   "outputs": [],
   "source": []
  },
  {
   "cell_type": "code",
   "execution_count": null,
   "id": "50d77d0d",
   "metadata": {},
   "outputs": [],
   "source": [
    "df.show(5)"
   ]
  },
  {
   "cell_type": "code",
   "execution_count": null,
   "id": "0d4c0293",
   "metadata": {},
   "outputs": [],
   "source": []
  },
  {
   "cell_type": "code",
   "execution_count": null,
   "id": "012a2bc4",
   "metadata": {},
   "outputs": [],
   "source": [
    "df.withColumn('Nascimento', col('Nascimento').cast(IntegerType())).show(3)"
   ]
  },
  {
   "cell_type": "code",
   "execution_count": null,
   "id": "fd5ac1df",
   "metadata": {},
   "outputs": [],
   "source": []
  },
  {
   "cell_type": "code",
   "execution_count": null,
   "id": "9b7ab86f",
   "metadata": {},
   "outputs": [],
   "source": []
  },
  {
   "cell_type": "code",
   "execution_count": null,
   "id": "40b0f007",
   "metadata": {},
   "outputs": [],
   "source": []
  },
  {
   "cell_type": "code",
   "execution_count": null,
   "id": "3aaeafdf",
   "metadata": {},
   "outputs": [],
   "source": []
  },
  {
   "cell_type": "code",
   "execution_count": null,
   "id": "c2b49d94",
   "metadata": {},
   "outputs": [],
   "source": []
  },
  {
   "cell_type": "code",
   "execution_count": null,
   "id": "daf8a92b",
   "metadata": {},
   "outputs": [],
   "source": []
  }
 ],
 "metadata": {
  "kernelspec": {
   "display_name": "Python 3 (ipykernel)",
   "language": "python",
   "name": "python3"
  },
  "language_info": {
   "codemirror_mode": {
    "name": "ipython",
    "version": 3
   },
   "file_extension": ".py",
   "mimetype": "text/x-python",
   "name": "python",
   "nbconvert_exporter": "python",
   "pygments_lexer": "ipython3",
   "version": "3.10.9"
  }
 },
 "nbformat": 4,
 "nbformat_minor": 5
}
