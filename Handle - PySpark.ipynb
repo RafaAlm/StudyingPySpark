{
 "cells": [
  {
   "cell_type": "code",
   "execution_count": null,
   "id": "0bb8404c",
   "metadata": {},
   "outputs": [],
   "source": [
    "!pip install pyspark.types"
   ]
  },
  {
   "cell_type": "code",
   "execution_count": null,
   "id": "3686fd83-448a-462b-9e6d-8485d4e16684",
   "metadata": {},
   "outputs": [],
   "source": [
    "import pyspark\n",
    "from pyspark.sql import SparkSession\n",
    "from pyspark.sql.functions import *\n",
    "#from pyspark.types import *"
   ]
  },
  {
   "cell_type": "markdown",
   "id": "951153c1-165e-43c6-bd9b-4a98588d2d96",
   "metadata": {},
   "source": [
    "Criar - Iniciar sessão PySpark"
   ]
  },
  {
   "cell_type": "code",
   "execution_count": null,
   "id": "9470893e-31fb-45d1-851a-20320575dd2d",
   "metadata": {},
   "outputs": [],
   "source": [
    "from pyspark.sql import SparkSession\n",
    "\n",
    "spark = SparkSession.builder \\\n",
    "    .appName(\"Pyspark01\") \\\n",
    "    .getOrCreate()"
   ]
  },
  {
   "cell_type": "code",
   "execution_count": null,
   "id": "eecef88a",
   "metadata": {},
   "outputs": [],
   "source": [
    "df = spark.read.csv('archive/wc2018-players.csv', header=True, inferSchema=True)"
   ]
  },
  {
   "cell_type": "code",
   "execution_count": null,
   "id": "4e68b0a7",
   "metadata": {},
   "outputs": [],
   "source": [
    "df.show(5)"
   ]
  },
  {
   "cell_type": "code",
   "execution_count": null,
   "id": "8c62b0d8",
   "metadata": {},
   "outputs": [],
   "source": [
    "df.printSchema()"
   ]
  },
  {
   "cell_type": "markdown",
   "id": "b9fa28e4",
   "metadata": {},
   "source": [
    "Verificar valores nulos"
   ]
  },
  {
   "cell_type": "code",
   "execution_count": null,
   "id": "8ee5272b",
   "metadata": {},
   "outputs": [],
   "source": [
    "df.toPandas().isna().sum()"
   ]
  },
  {
   "cell_type": "code",
   "execution_count": null,
   "id": "78be27aa",
   "metadata": {},
   "outputs": [],
   "source": [
    "df = df.withColumnRenamed('Team', 'Selecao').withColumnRenamed('#', 'Numero').withColumnRenamed('Pos.', 'Posicao')\\\n",
    ".withColumnRenamed('FIFA Popular Name', 'Nome').withColumnRenamed('Birth Date', 'Nascimento')\\\n",
    ".withColumnRenamed('Club', 'Time').withColumnRenamed('Height', 'Altura').withColumnRenamed('Weight', 'Peso')\\\n",
    "\n",
    "df.show(5)"
   ]
  },
  {
   "cell_type": "markdown",
   "id": "0632295a",
   "metadata": {},
   "source": [
    "Verificar valores nulos"
   ]
  },
  {
   "cell_type": "code",
   "execution_count": null,
   "id": "9a7c7629",
   "metadata": {},
   "outputs": [],
   "source": [
    "for coluna in df.columns:\n",
    "    print(coluna, df.filter(df[coluna].isNull()).count())"
   ]
  },
  {
   "cell_type": "code",
   "execution_count": null,
   "id": "1da27eb5",
   "metadata": {},
   "outputs": [],
   "source": [
    "df.columns"
   ]
  },
  {
   "cell_type": "markdown",
   "id": "b8abcf17",
   "metadata": {},
   "source": [
    "Selecionar colunas"
   ]
  },
  {
   "cell_type": "code",
   "execution_count": null,
   "id": "d157b927",
   "metadata": {},
   "outputs": [],
   "source": [
    "df.select('Nome','Selecao').show(7)"
   ]
  },
  {
   "cell_type": "code",
   "execution_count": null,
   "id": "918d1ce6",
   "metadata": {},
   "outputs": [],
   "source": [
    "df.select(col('Time')).show(2)"
   ]
  },
  {
   "cell_type": "code",
   "execution_count": null,
   "id": "c873289b",
   "metadata": {},
   "outputs": [],
   "source": [
    "df.select(df['Selecao']).show(3)"
   ]
  },
  {
   "cell_type": "markdown",
   "id": "29d6de97",
   "metadata": {},
   "source": [
    "Selecionar coluna com ALIAS"
   ]
  },
  {
   "cell_type": "code",
   "execution_count": null,
   "id": "edcbaaa7",
   "metadata": {},
   "outputs": [],
   "source": [
    "df.select(col('Selecao').alias('Time')).show(5)"
   ]
  },
  {
   "cell_type": "markdown",
   "id": "9ae30f89",
   "metadata": {},
   "source": [
    "Select utilizando split"
   ]
  },
  {
   "cell_type": "code",
   "execution_count": null,
   "id": "54745aa3",
   "metadata": {
    "scrolled": true
   },
   "outputs": [],
   "source": [
    "df.select('Selecao nome altura'.split()).show(5)"
   ]
  },
  {
   "cell_type": "markdown",
   "id": "de61746d",
   "metadata": {},
   "source": [
    "Filtrar DF"
   ]
  },
  {
   "cell_type": "code",
   "execution_count": null,
   "id": "a8de5ad8",
   "metadata": {},
   "outputs": [],
   "source": [
    "df.filter('Selecao = \"Brazil\"').show(3)"
   ]
  },
  {
   "cell_type": "markdown",
   "id": "ede8b1f0",
   "metadata": {},
   "source": [
    "Filtrar com mais de uma condição"
   ]
  },
  {
   "cell_type": "code",
   "execution_count": null,
   "id": "0d4ab89b",
   "metadata": {},
   "outputs": [],
   "source": [
    "df.filter((col('Selecao') == \"Brazil\") & (col('Altura') == 169)).show(3)"
   ]
  },
  {
   "cell_type": "code",
   "execution_count": null,
   "id": "3ae2bc4d",
   "metadata": {},
   "outputs": [],
   "source": [
    "df.filter('Selecao = \"Brazil\"').filter(col('Numero') > 10).show(5)"
   ]
  },
  {
   "cell_type": "markdown",
   "id": "b71af9c2",
   "metadata": {},
   "source": [
    "Filtro condicional \"OU\" = |"
   ]
  },
  {
   "cell_type": "code",
   "execution_count": null,
   "id": "35a585b7",
   "metadata": {},
   "outputs": [],
   "source": [
    "df.filter((col('Nome') == 'MESSI Lionel') | (col('Nome') == 'Fred')).show()"
   ]
  },
  {
   "cell_type": "markdown",
   "id": "4a7167c6",
   "metadata": {},
   "source": [
    "Filtrar DF combinando & e | (and - Or)"
   ]
  },
  {
   "cell_type": "code",
   "execution_count": null,
   "id": "8ac5eef8",
   "metadata": {},
   "outputs": [],
   "source": [
    "df.filter((col('Selecao') == \"Brazil\") & (col('Posicao') == 'DF') | (col('Nome') == 'MESSI Lionel')).show(5)"
   ]
  },
  {
   "cell_type": "markdown",
   "id": "a16ed8a1",
   "metadata": {},
   "source": [
    "Criar uma coluna nova"
   ]
  },
  {
   "cell_type": "code",
   "execution_count": null,
   "id": "55625fc5",
   "metadata": {},
   "outputs": [],
   "source": [
    "df = df.withColumn('Ano', substring('Nascimento', -4,4))"
   ]
  },
  {
   "cell_type": "code",
   "execution_count": null,
   "id": "46d10edc",
   "metadata": {},
   "outputs": [],
   "source": [
    "df.show(3)"
   ]
  },
  {
   "cell_type": "markdown",
   "id": "85580a5d",
   "metadata": {},
   "source": [
    "Concatenar uma coluna com a outra"
   ]
  },
  {
   "cell_type": "code",
   "execution_count": null,
   "id": "a6049aba",
   "metadata": {},
   "outputs": [],
   "source": [
    "df.withColumn('Selecao_numero', concat('Selecao', col('Numero'))).show(3)"
   ]
  },
  {
   "cell_type": "markdown",
   "id": "1cab34d8",
   "metadata": {},
   "source": [
    "Concatenar uma coluna utilizando separador"
   ]
  },
  {
   "cell_type": "code",
   "execution_count": null,
   "id": "e15710fc",
   "metadata": {},
   "outputs": [],
   "source": [
    "df.withColumn('Selecao_numero', concat_ws(' - ', 'Selecao', 'Numero')).show(3)"
   ]
  },
  {
   "cell_type": "markdown",
   "id": "a3613a56",
   "metadata": {},
   "source": [
    "Alterar o tipo da coluna"
   ]
  },
  {
   "cell_type": "code",
   "execution_count": null,
   "id": "b2f390c6",
   "metadata": {},
   "outputs": [],
   "source": [
    "df.printSchema()"
   ]
  },
  {
   "cell_type": "code",
   "execution_count": null,
   "id": "93302bb4",
   "metadata": {},
   "outputs": [],
   "source": [
    "from pyspark.sql.types import IntegerType\n",
    "\n",
    "df = df.withColumn('Ano', col('Ano').cast(IntegerType()))"
   ]
  },
  {
   "cell_type": "code",
   "execution_count": null,
   "id": "6dda7477",
   "metadata": {},
   "outputs": [],
   "source": [
    "df.printSchema()"
   ]
  },
  {
   "cell_type": "code",
   "execution_count": null,
   "id": "22e97a6b",
   "metadata": {},
   "outputs": [],
   "source": [
    "dia = udf(lambda data: data.split('.')[0])"
   ]
  },
  {
   "cell_type": "code",
   "execution_count": null,
   "id": "62847cac",
   "metadata": {},
   "outputs": [],
   "source": [
    "df.withColumn('Dia', dia('Nascimento'))"
   ]
  },
  {
   "cell_type": "code",
   "execution_count": null,
   "id": "430cc000",
   "metadata": {},
   "outputs": [],
   "source": [
    "df.show(2)"
   ]
  },
  {
   "cell_type": "code",
   "execution_count": null,
   "id": "44d06971",
   "metadata": {},
   "outputs": [],
   "source": [
    "mes = udf(lambda data: data.split('.')[1])"
   ]
  },
  {
   "cell_type": "code",
   "execution_count": null,
   "id": "3a8ade86",
   "metadata": {},
   "outputs": [],
   "source": [
    "df.withColumn('Mes', dia('Nascimento'))"
   ]
  },
  {
   "cell_type": "code",
   "execution_count": null,
   "id": "bbf4dcf1",
   "metadata": {},
   "outputs": [],
   "source": [
    "df = df.withColumn('Data_nascimento', concat_ws(' - ', 'Ano', 'Mes', 'Dia'))"
   ]
  },
  {
   "cell_type": "code",
   "execution_count": null,
   "id": "076e705f",
   "metadata": {},
   "outputs": [],
   "source": [
    "df.withColumn('Data_nascimento', col('Data_nascimento').cast(DataType))"
   ]
  },
  {
   "cell_type": "code",
   "execution_count": null,
   "id": "cc53c3e3",
   "metadata": {},
   "outputs": [],
   "source": []
  }
 ],
 "metadata": {
  "kernelspec": {
   "display_name": "Python 3 (ipykernel)",
   "language": "python",
   "name": "python3"
  },
  "language_info": {
   "codemirror_mode": {
    "name": "ipython",
    "version": 3
   },
   "file_extension": ".py",
   "mimetype": "text/x-python",
   "name": "python",
   "nbconvert_exporter": "python",
   "pygments_lexer": "ipython3",
   "version": "3.10.9"
  }
 },
 "nbformat": 4,
 "nbformat_minor": 5
}
